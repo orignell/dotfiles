{
 "cells": [
  {
   "cell_type": "code",
   "execution_count": 11,
   "id": "f24923ec",
   "metadata": {},
   "outputs": [],
   "source": [
    "import pandas as pd"
   ]
  },
  {
   "cell_type": "code",
   "execution_count": 36,
   "id": "644d24cc",
   "metadata": {},
   "outputs": [],
   "source": [
    "data = pd.read_csv(\"day3good.txt\")"
   ]
  },
  {
   "cell_type": "code",
   "execution_count": 48,
   "id": "56d38d96",
   "metadata": {},
   "outputs": [
    {
     "data": {
      "text/html": [
       "<div>\n",
       "<style scoped>\n",
       "    .dataframe tbody tr th:only-of-type {\n",
       "        vertical-align: middle;\n",
       "    }\n",
       "\n",
       "    .dataframe tbody tr th {\n",
       "        vertical-align: top;\n",
       "    }\n",
       "\n",
       "    .dataframe thead th {\n",
       "        text-align: right;\n",
       "    }\n",
       "</style>\n",
       "<table border=\"1\" class=\"dataframe\">\n",
       "  <thead>\n",
       "    <tr style=\"text-align: right;\">\n",
       "      <th></th>\n",
       "      <th>day3good</th>\n",
       "    </tr>\n",
       "  </thead>\n",
       "  <tbody>\n",
       "    <tr>\n",
       "      <th>0</th>\n",
       "      <td>11010</td>\n",
       "    </tr>\n",
       "    <tr>\n",
       "      <th>1</th>\n",
       "      <td>11001111011</td>\n",
       "    </tr>\n",
       "    <tr>\n",
       "      <th>2</th>\n",
       "      <td>100101011101</td>\n",
       "    </tr>\n",
       "    <tr>\n",
       "      <th>3</th>\n",
       "      <td>110000110</td>\n",
       "    </tr>\n",
       "    <tr>\n",
       "      <th>4</th>\n",
       "      <td>101010001010</td>\n",
       "    </tr>\n",
       "  </tbody>\n",
       "</table>\n",
       "</div>"
      ],
      "text/plain": [
       "       day3good\n",
       "0         11010\n",
       "1   11001111011\n",
       "2  100101011101\n",
       "3     110000110\n",
       "4  101010001010"
      ]
     },
     "execution_count": 48,
     "metadata": {},
     "output_type": "execute_result"
    }
   ],
   "source": [
    "data.head()"
   ]
  },
  {
   "cell_type": "code",
   "execution_count": 39,
   "id": "ccc4432d",
   "metadata": {},
   "outputs": [
    {
     "data": {
      "text/plain": [
       "1000"
      ]
     },
     "execution_count": 39,
     "metadata": {},
     "output_type": "execute_result"
    }
   ],
   "source": [
    "data_list = data['day3good'].tolist()\n",
    "len(data_list)"
   ]
  },
  {
   "cell_type": "code",
   "execution_count": 51,
   "id": "77f64a5d",
   "metadata": {},
   "outputs": [],
   "source": [
    "good_list = []\n",
    "for bites in data_list:\n",
    "    bites_str = str(bites)\n",
    "    while len(bites_str) < 12:\n",
    "        bites_str = '0' + bites_str\n",
    "    good_list.append(bites_str)"
   ]
  },
  {
   "cell_type": "code",
   "execution_count": 68,
   "id": "23082f61",
   "metadata": {},
   "outputs": [
    {
     "data": {
      "text/plain": [
       "12"
      ]
     },
     "execution_count": 68,
     "metadata": {},
     "output_type": "execute_result"
    }
   ],
   "source": [
    "len(good_list[0])"
   ]
  },
  {
   "cell_type": "code",
   "execution_count": 85,
   "id": "e8cd0794",
   "metadata": {},
   "outputs": [],
   "source": [
    "def helper(good_list):\n",
    "    empty_dic = {0:0,\n",
    "             1:0,\n",
    "             2:0,\n",
    "             3:0,\n",
    "             4:0,\n",
    "             5:0,\n",
    "             6:0,\n",
    "             7:0,\n",
    "             8:0,\n",
    "             9:0,\n",
    "             10:0,\n",
    "             11:0\n",
    "            }\n",
    "    for biting in good_list:\n",
    "        for i in range(12):\n",
    "            if biting[i] == '1':\n",
    "                empty_dic[i] += 1\n",
    "            else:\n",
    "                empty_dic[i] -= 1\n",
    "    return empty_dic"
   ]
  },
  {
   "cell_type": "code",
   "execution_count": 87,
   "id": "6c814eea",
   "metadata": {},
   "outputs": [],
   "source": [
    "temp = good_list\n",
    "for i in range(12):\n",
    "    if len(temp) == 1:\n",
    "        break\n",
    "    dick = helper(temp)\n",
    "    if dick[i] >= 0:\n",
    "        interm = []\n",
    "        for x in temp:\n",
    "            if x[i] == '1':\n",
    "                interm.append(x)\n",
    "        temp = interm\n",
    "    elif dick[i] < 0:\n",
    "        interm = []\n",
    "        for x in temp:\n",
    "            if x[i] == '0':\n",
    "                interm.append(x)\n",
    "        temp = interm"
   ]
  },
  {
   "cell_type": "code",
   "execution_count": 89,
   "id": "1141e5af",
   "metadata": {},
   "outputs": [
    {
     "data": {
      "text/plain": [
       "'101011011111'"
      ]
     },
     "execution_count": 89,
     "metadata": {},
     "output_type": "execute_result"
    }
   ],
   "source": [
    "oxygen = temp[0]\n",
    "oxygen"
   ]
  },
  {
   "cell_type": "code",
   "execution_count": 92,
   "id": "b8002455",
   "metadata": {},
   "outputs": [],
   "source": [
    "temp2 = good_list\n",
    "for i in range(12):\n",
    "    if len(temp2) == 1:\n",
    "        break\n",
    "    dick = helper(temp2)\n",
    "    if -dick[i] > 0:\n",
    "        interm = []\n",
    "        for x in temp2:\n",
    "            if x[i] == '1':\n",
    "                interm.append(x)\n",
    "        temp2 = interm\n",
    "    elif -dick[i] <= 0:\n",
    "        interm = []\n",
    "        for x in temp2:\n",
    "            if x[i] == '0':\n",
    "                interm.append(x)\n",
    "        temp2 = interm"
   ]
  },
  {
   "cell_type": "code",
   "execution_count": 94,
   "id": "16d52232",
   "metadata": {},
   "outputs": [
    {
     "data": {
      "text/plain": [
       "'010101001001'"
      ]
     },
     "execution_count": 94,
     "metadata": {},
     "output_type": "execute_result"
    }
   ],
   "source": [
    "carbon = temp2[0]\n",
    "carbon"
   ]
  },
  {
   "cell_type": "code",
   "execution_count": 96,
   "id": "dfafbe9d",
   "metadata": {},
   "outputs": [
    {
     "data": {
      "text/plain": [
       "'0'"
      ]
     },
     "execution_count": 96,
     "metadata": {},
     "output_type": "execute_result"
    }
   ],
   "source": [
    "carbon[-0]"
   ]
  },
  {
   "cell_type": "code",
   "execution_count": 97,
   "id": "03587234",
   "metadata": {},
   "outputs": [
    {
     "data": {
      "text/plain": [
       "[1, 2, 3, 4, 5, 6, 7, 8, 9, 10, 11, 12]"
      ]
     },
     "execution_count": 97,
     "metadata": {},
     "output_type": "execute_result"
    }
   ],
   "source": [
    "list(range(1, 13))"
   ]
  },
  {
   "cell_type": "code",
   "execution_count": null,
   "id": "3dd0244d",
   "metadata": {},
   "outputs": [],
   "source": [
    "oxygen, carbon"
   ]
  },
  {
   "cell_type": "code",
   "execution_count": 99,
   "id": "c2a21bf2",
   "metadata": {},
   "outputs": [],
   "source": [
    "toto = 0\n",
    "totc = 0\n",
    "for i in range(1, 13):\n",
    "    x = 2**(i-1)\n",
    "    if oxygen[-i] == '1':\n",
    "        toto += x\n",
    "for i in range(1, 13):\n",
    "    x = 2**(i-1)\n",
    "    if carbon[-i] == '1':\n",
    "        totc += x"
   ]
  },
  {
   "cell_type": "code",
   "execution_count": 100,
   "id": "3140922d",
   "metadata": {},
   "outputs": [
    {
     "data": {
      "text/plain": [
       "(2783, 1353)"
      ]
     },
     "execution_count": 100,
     "metadata": {},
     "output_type": "execute_result"
    }
   ],
   "source": [
    "toto, totc"
   ]
  },
  {
   "cell_type": "code",
   "execution_count": 101,
   "id": "ae31d839",
   "metadata": {},
   "outputs": [
    {
     "data": {
      "text/plain": [
       "3765399"
      ]
     },
     "execution_count": 101,
     "metadata": {},
     "output_type": "execute_result"
    }
   ],
   "source": [
    "toto * totc"
   ]
  },
  {
   "cell_type": "code",
   "execution_count": 57,
   "id": "70dde6da",
   "metadata": {},
   "outputs": [
    {
     "data": {
      "text/plain": [
       "{0: 38,\n",
       " 1: -38,\n",
       " 2: 14,\n",
       " 3: 2,\n",
       " 4: -8,\n",
       " 5: -10,\n",
       " 6: 8,\n",
       " 7: -16,\n",
       " 8: -34,\n",
       " 9: -4,\n",
       " 10: -30,\n",
       " 11: 20}"
      ]
     },
     "execution_count": 57,
     "metadata": {},
     "output_type": "execute_result"
    }
   ],
   "source": [
    "empty_dic"
   ]
  },
  {
   "cell_type": "code",
   "execution_count": 74,
   "id": "7e4e0005",
   "metadata": {},
   "outputs": [],
   "source": [
    "stringer1 = ''\n",
    "stringer2 = ''\n",
    "\n",
    "for i in range(12):\n",
    "    if empty_dic[i] > 0:\n",
    "        stringer1 = '1'+ stringer1\n",
    "        stringer2 = '0'+ stringer2\n",
    "    else:\n",
    "        stringer1 = '0'+ stringer1\n",
    "        stringer2 = '1'+ stringer2"
   ]
  },
  {
   "cell_type": "code",
   "execution_count": 75,
   "id": "91d94cb3",
   "metadata": {},
   "outputs": [
    {
     "data": {
      "text/plain": [
       "('100001001101', '011110110010')"
      ]
     },
     "execution_count": 75,
     "metadata": {},
     "output_type": "execute_result"
    }
   ],
   "source": [
    "stringer1, stringer2"
   ]
  },
  {
   "cell_type": "code",
   "execution_count": null,
   "id": "ae7141ec",
   "metadata": {},
   "outputs": [],
   "source": []
  }
 ],
 "metadata": {
  "kernelspec": {
   "display_name": "Python 3 (ipykernel)",
   "language": "python",
   "name": "python3"
  },
  "language_info": {
   "codemirror_mode": {
    "name": "ipython",
    "version": 3
   },
   "file_extension": ".py",
   "mimetype": "text/x-python",
   "name": "python",
   "nbconvert_exporter": "python",
   "pygments_lexer": "ipython3",
   "version": "3.8.12"
  },
  "toc": {
   "base_numbering": 1,
   "nav_menu": {},
   "number_sections": true,
   "sideBar": true,
   "skip_h1_title": false,
   "title_cell": "Table of Contents",
   "title_sidebar": "Contents",
   "toc_cell": false,
   "toc_position": {},
   "toc_section_display": true,
   "toc_window_display": false
  }
 },
 "nbformat": 4,
 "nbformat_minor": 5
}
