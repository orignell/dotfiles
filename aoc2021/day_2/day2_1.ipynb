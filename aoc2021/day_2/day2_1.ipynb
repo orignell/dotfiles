{
 "cells": [
  {
   "cell_type": "code",
   "execution_count": 1,
   "id": "7d5cd99f",
   "metadata": {},
   "outputs": [],
   "source": [
    "import pandas as pd"
   ]
  },
  {
   "cell_type": "code",
   "execution_count": 2,
   "id": "d8e1e3f1",
   "metadata": {},
   "outputs": [],
   "source": [
    "data = pd.read_csv('day2_1.txt')"
   ]
  },
  {
   "cell_type": "code",
   "execution_count": 3,
   "id": "5ade7d7d",
   "metadata": {},
   "outputs": [
    {
     "data": {
      "text/html": [
       "<div>\n",
       "<style scoped>\n",
       "    .dataframe tbody tr th:only-of-type {\n",
       "        vertical-align: middle;\n",
       "    }\n",
       "\n",
       "    .dataframe tbody tr th {\n",
       "        vertical-align: top;\n",
       "    }\n",
       "\n",
       "    .dataframe thead th {\n",
       "        text-align: right;\n",
       "    }\n",
       "</style>\n",
       "<table border=\"1\" class=\"dataframe\">\n",
       "  <thead>\n",
       "    <tr style=\"text-align: right;\">\n",
       "      <th></th>\n",
       "      <th>day2_1</th>\n",
       "    </tr>\n",
       "  </thead>\n",
       "  <tbody>\n",
       "    <tr>\n",
       "      <th>0</th>\n",
       "      <td>forward 3</td>\n",
       "    </tr>\n",
       "    <tr>\n",
       "      <th>1</th>\n",
       "      <td>down 9</td>\n",
       "    </tr>\n",
       "    <tr>\n",
       "      <th>2</th>\n",
       "      <td>forward 6</td>\n",
       "    </tr>\n",
       "    <tr>\n",
       "      <th>3</th>\n",
       "      <td>down 3</td>\n",
       "    </tr>\n",
       "    <tr>\n",
       "      <th>4</th>\n",
       "      <td>forward 8</td>\n",
       "    </tr>\n",
       "  </tbody>\n",
       "</table>\n",
       "</div>"
      ],
      "text/plain": [
       "      day2_1\n",
       "0  forward 3\n",
       "1     down 9\n",
       "2  forward 6\n",
       "3     down 3\n",
       "4  forward 8"
      ]
     },
     "execution_count": 3,
     "metadata": {},
     "output_type": "execute_result"
    }
   ],
   "source": [
    "data.head()"
   ]
  },
  {
   "cell_type": "code",
   "execution_count": 4,
   "id": "5a08ac35",
   "metadata": {},
   "outputs": [
    {
     "data": {
      "text/plain": [
       "1000"
      ]
     },
     "execution_count": 4,
     "metadata": {},
     "output_type": "execute_result"
    }
   ],
   "source": [
    "data_list = data['day2_1'].tolist()\n",
    "len(data_list)"
   ]
  },
  {
   "cell_type": "code",
   "execution_count": 7,
   "id": "d7f419d8",
   "metadata": {},
   "outputs": [
    {
     "data": {
      "text/plain": [
       "['forward', '3']"
      ]
     },
     "execution_count": 7,
     "metadata": {},
     "output_type": "execute_result"
    }
   ],
   "source": [
    "data_list[0].split()"
   ]
  },
  {
   "cell_type": "code",
   "execution_count": 9,
   "id": "927ac42d",
   "metadata": {},
   "outputs": [],
   "source": [
    "list_of_list = []\n",
    "for i in data_list:\n",
    "    list_of_list.append(i.split())"
   ]
  },
  {
   "cell_type": "code",
   "execution_count": 10,
   "id": "6b11c98c",
   "metadata": {},
   "outputs": [
    {
     "data": {
      "text/plain": [
       "['forward', '3']"
      ]
     },
     "execution_count": 10,
     "metadata": {},
     "output_type": "execute_result"
    }
   ],
   "source": [
    "list_of_list[0]"
   ]
  },
  {
   "cell_type": "code",
   "execution_count": 20,
   "id": "3fd4d410",
   "metadata": {},
   "outputs": [],
   "source": [
    "forward = 0\n",
    "aim = 0\n",
    "depth = 0\n",
    "for x in list_of_list:\n",
    "    if x[0] == 'forward':\n",
    "        forward += int(x[1])\n",
    "        depth += int(x[1])*aim\n",
    "    elif x[0] == 'down':\n",
    "        aim += int(x[1])\n",
    "    elif x[0] == 'up':\n",
    "        aim -= int(x[1])"
   ]
  },
  {
   "cell_type": "code",
   "execution_count": 21,
   "id": "c91a99f0",
   "metadata": {},
   "outputs": [
    {
     "data": {
      "text/plain": [
       "(2063, 892056)"
      ]
     },
     "execution_count": 21,
     "metadata": {},
     "output_type": "execute_result"
    }
   ],
   "source": [
    "forward, depth"
   ]
  },
  {
   "cell_type": "code",
   "execution_count": 22,
   "id": "29b34c79",
   "metadata": {},
   "outputs": [
    {
     "data": {
      "text/plain": [
       "1840311528"
      ]
     },
     "execution_count": 22,
     "metadata": {},
     "output_type": "execute_result"
    }
   ],
   "source": [
    "forward * depth"
   ]
  },
  {
   "cell_type": "code",
   "execution_count": null,
   "id": "680b0209",
   "metadata": {},
   "outputs": [],
   "source": []
  }
 ],
 "metadata": {
  "kernelspec": {
   "display_name": "Python 3 (ipykernel)",
   "language": "python",
   "name": "python3"
  },
  "language_info": {
   "codemirror_mode": {
    "name": "ipython",
    "version": 3
   },
   "file_extension": ".py",
   "mimetype": "text/x-python",
   "name": "python",
   "nbconvert_exporter": "python",
   "pygments_lexer": "ipython3",
   "version": "3.8.12"
  },
  "toc": {
   "base_numbering": 1,
   "nav_menu": {},
   "number_sections": true,
   "sideBar": true,
   "skip_h1_title": false,
   "title_cell": "Table of Contents",
   "title_sidebar": "Contents",
   "toc_cell": false,
   "toc_position": {},
   "toc_section_display": true,
   "toc_window_display": false
  }
 },
 "nbformat": 4,
 "nbformat_minor": 5
}
